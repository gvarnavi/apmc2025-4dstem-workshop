{
 "cells": [
  {
   "cell_type": "markdown",
   "id": "bc886dd6-58d1-4765-8a76-dd5523561c75",
   "metadata": {},
   "source": [
    "---\n",
    "title: Electron Wavefunctions\n",
    "authors: [gvarnavides]\n",
    "date: 2025-01-22\n",
    "---"
   ]
  },
  {
   "cell_type": "code",
   "execution_count": 118,
   "id": "bf42e202-6b2b-4003-a2fd-438a629b211d",
   "metadata": {},
   "outputs": [],
   "source": [
    "%matplotlib widget\n",
    "import numpy as np\n",
    "import matplotlib.pyplot as plt\n",
    "from mpl_toolkits.axes_grid1 import make_axes_locatable\n",
    "from IPython.display import display, clear_output\n",
    "import ipywidgets\n",
    "\n",
    "import abtem\n",
    "import py4DSTEM # for visualization"
   ]
  },
  {
   "cell_type": "markdown",
   "id": "fa8fbd47-3398-4762-874e-fe1c764ebf28",
   "metadata": {},
   "source": [
    "## Apertures"
   ]
  },
  {
   "cell_type": "code",
   "execution_count": 124,
   "id": "46a6d708-79cf-4151-a149-d41a69800a50",
   "metadata": {},
   "outputs": [],
   "source": [
    "def return_probe_arrays(semiangle_cutoff):\n",
    "    \"\"\" \"\"\"\n",
    "    probe = abtem.Probe(\n",
    "        semiangle_cutoff=semiangle_cutoff,\n",
    "        sampling=(0.125,0.125),\n",
    "        gpts=(128,128),\n",
    "        energy=300e3,\n",
    "    ).build(\n",
    "        (0,0), # corner-centered\n",
    "        lazy=False\n",
    "    )\n",
    "    \n",
    "    complex_probe = np.fft.fftshift(probe.array)\n",
    "    fourier_probe = probe.diffraction_patterns(\n",
    "        return_complex=True,\n",
    "        max_angle=None,\n",
    "    ).array\n",
    "    return probe, fourier_probe, complex_probe\n",
    "\n",
    "probe, fourier_probe, complex_probe  = return_probe_arrays(\n",
    "    semiangle_cutoff=20,\n",
    ")\n",
    "\n",
    "dpi = 72\n",
    "with plt.ioff():\n",
    "    fig,axs = plt.subplots(1,2,figsize=(675/dpi,325/dpi),dpi=dpi)\n",
    "\n",
    "bar_common = {\"Nx\":128,\"Ny\":128,\"labelsize\":8}\n",
    "\n",
    "rgb_fourier_probe = py4DSTEM.visualize.Complex2RGB(\n",
    "    fourier_probe,\n",
    "    vmin=0,vmax=1,\n",
    ")\n",
    "im_fourier = axs[0].imshow(rgb_fourier_probe)\n",
    "bar_fourier= bar_common | {\"pixelsize\":probe.angular_sampling[0],\"pixelunits\":\"mrad\"}\n",
    "\n",
    "rgb_complex_probe = py4DSTEM.visualize.Complex2RGB(\n",
    "    complex_probe,\n",
    "    vmin=0,vmax=1,\n",
    ")\n",
    "im_complex = axs[1].imshow(rgb_complex_probe)\n",
    "bar_complex= bar_common | {\"pixelsize\":probe.sampling[0],\"pixelunits\":r\"$\\AA$\"}\n",
    "\n",
    "bars = [bar_fourier, bar_complex]\n",
    "titles= [\"Fourier-space probe\", \"real-space probe\"]\n",
    "\n",
    "for ax, bar, title in zip(axs, bars, titles):\n",
    "    ax.set(xticks=[],yticks=[],title=title)\n",
    "    divider = make_axes_locatable(ax)\n",
    "    ax_cb = divider.append_axes(\"right\", size=\"5%\", pad=\"2.5%\")\n",
    "    py4DSTEM.visualize.add_colorbar_arg(ax_cb)\n",
    "    py4DSTEM.visualize.add_scalebar(ax,bar)\n",
    "\n",
    "fig.tight_layout()\n",
    "fig.canvas.resizable = False\n",
    "fig.canvas.header_visible = False\n",
    "fig.canvas.footer_visible = False\n",
    "fig.canvas.toolbar_visible = True\n",
    "fig.canvas.layout.width = '675px'\n",
    "fig.canvas.layout.height = '350px'\n",
    "fig.canvas.toolbar_position = 'bottom'"
   ]
  },
  {
   "cell_type": "code",
   "execution_count": 137,
   "id": "a188a901-42b5-4127-8a4d-494cd09c5f4d",
   "metadata": {},
   "outputs": [],
   "source": [
    "def update_aperture(change):\n",
    "    \"\"\" \"\"\"\n",
    "    semiangle_cutoff = change['new']\n",
    "    probe, fourier_probe, complex_probe  = return_probe_arrays(\n",
    "        semiangle_cutoff=semiangle_cutoff,\n",
    "    )\n",
    "\n",
    "    rgb_fourier_probe = py4DSTEM.visualize.Complex2RGB(\n",
    "        fourier_probe,\n",
    "        vmin=0,vmax=1,\n",
    "    )\n",
    "    im_fourier.set_data(rgb_fourier_probe)\n",
    "    \n",
    "    rgb_complex_probe = py4DSTEM.visualize.Complex2RGB(\n",
    "        complex_probe,\n",
    "        vmin=0,vmax=1,\n",
    "    )\n",
    "    im_complex.set_data(rgb_complex_probe)\n",
    "    fig.canvas.draw_idle()\n",
    "    return None\n",
    "\n",
    "style = {\n",
    "    'description_width': 'initial',\n",
    "}\n",
    "\n",
    "layout = ipywidgets.Layout(width='450px',height='30px')\n",
    "\n",
    "semiangle_slider = ipywidgets.FloatSlider(\n",
    "    min=5,\n",
    "    max=50,\n",
    "    step=0.5,\n",
    "    value=20,\n",
    "    layout=layout,\n",
    "    style=style,\n",
    "    description=\"convergence semi-angle [mrad]\",\n",
    ") \n",
    "semiangle_slider.observe(update_aperture, 'value')"
   ]
  },
  {
   "cell_type": "code",
   "execution_count": 138,
   "id": "4211d81b-39fa-4916-8ba2-a748a1e95432",
   "metadata": {},
   "outputs": [
    {
     "data": {
      "application/vnd.jupyter.widget-view+json": {
       "model_id": "85fb24f465e94e9994c035eb4fceb3f1",
       "version_major": 2,
       "version_minor": 0
      },
      "text/plain": [
       "VBox(children=(FloatSlider(value=20.0, description='convergence semi-angle [mrad]', layout=Layout(height='30px…"
      ]
     },
     "metadata": {},
     "output_type": "display_data"
    }
   ],
   "source": [
    "#| label: app:convergence_angle_widget\n",
    "display(\n",
    "    ipywidgets.VBox(\n",
    "        [\n",
    "            semiangle_slider,\n",
    "            fig.canvas\n",
    "        ],\n",
    "        layout=ipywidgets.Layout(\n",
    "            align_items=\"center\"\n",
    "        )\n",
    "    )\n",
    ")"
   ]
  }
 ],
 "metadata": {
  "kernelspec": {
   "display_name": "Python 3 (ipykernel)",
   "language": "python",
   "name": "python3"
  },
  "language_info": {
   "codemirror_mode": {
    "name": "ipython",
    "version": 3
   },
   "file_extension": ".py",
   "mimetype": "text/x-python",
   "name": "python",
   "nbconvert_exporter": "python",
   "pygments_lexer": "ipython3",
   "version": "3.12.8"
  }
 },
 "nbformat": 4,
 "nbformat_minor": 5
}
