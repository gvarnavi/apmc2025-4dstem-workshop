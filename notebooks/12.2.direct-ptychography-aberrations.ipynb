{
 "cells": [
  {
   "cell_type": "markdown",
   "id": "a40276f7-3a5e-41fe-b66a-3243798fc0ee",
   "metadata": {},
   "source": [
    "---\n",
    "title: Abberation Fitting\n",
    "authors: [gvarnavides]\n",
    "date: 2025-01-30\n",
    "---"
   ]
  },
  {
   "cell_type": "code",
   "execution_count": 1,
   "id": "feb1c46d-8b11-4834-8d47-ff087f123180",
   "metadata": {},
   "outputs": [],
   "source": [
    "%matplotlib widget\n",
    "import abtem\n",
    "import ase\n",
    "import py4DSTEM\n",
    "\n",
    "import numpy as np\n",
    "import matplotlib.pyplot as plt\n",
    "\n",
    "import ipywidgets\n",
    "abtem.config.set({\"dask.lazy\":False});"
   ]
  },
  {
   "cell_type": "code",
   "execution_count": 2,
   "id": "773719e3-8657-40a5-a811-b625a8592ace",
   "metadata": {},
   "outputs": [],
   "source": [
    "file_path = 'data/'\n",
    "file_data_aberrated = file_path + 'dpc_STO_simulation_aberrated_1e5.h5'\n",
    "dataset_aberrated = py4DSTEM.read(file_data_aberrated)"
   ]
  },
  {
   "cell_type": "code",
   "execution_count": 3,
   "id": "620280c4-b755-4f7f-8b25-052c4ad1a09c",
   "metadata": {},
   "outputs": [],
   "source": [
    "energy = 200e3\n",
    "semiangle_cutoff = 20\n",
    "rotation = -15\n",
    "gpts = dataset_aberrated.Qshape\n",
    "scan_gpts = dataset_aberrated.Rshape"
   ]
  },
  {
   "cell_type": "code",
   "execution_count": 4,
   "id": "27ae85d9-91c4-48ee-bfd6-dbd096cad4c3",
   "metadata": {},
   "outputs": [],
   "source": [
    "ssb = py4DSTEM.process.phase.SSB(\n",
    "    energy=energy,\n",
    "    datacube=dataset_aberrated,\n",
    "    semiangle_cutoff=semiangle_cutoff,\n",
    "    verbose=False,\n",
    ").preprocess(\n",
    "    plot_center_of_mass=False,\n",
    "    plot_rotation=False,\n",
    "    plot_overlap_trotters=False,\n",
    "    force_com_rotation=rotation,\n",
    "    force_com_transpose=False,\n",
    "    vectorized_com_calculation=False,\n",
    ").reconstruct(\n",
    "    progress_bar=False\n",
    ")"
   ]
  },
  {
   "cell_type": "code",
   "execution_count": 5,
   "id": "3374c8ee-595a-4827-a3ee-90553967ffc3",
   "metadata": {},
   "outputs": [],
   "source": [
    "with plt.ioff():\n",
    "    dpi = 72\n",
    "    fig, axs = plt.subplots(1,2, figsize=(675/dpi, 335/dpi), dpi=dpi)\n",
    "\n",
    "angle_data, _, _ = py4DSTEM.visualize.return_scaled_histogram_ordering(np.angle(ssb.object),normalize=True)\n",
    "ampl_data, _, _ = py4DSTEM.visualize.return_scaled_histogram_ordering(np.abs(ssb.object),normalize=True)\n",
    "im_angle = axs[0].imshow(np.tile(np.fft.fftshift(angle_data),(2,2)),cmap='magma')\n",
    "im_ampl = axs[1].imshow(np.tile(np.fft.fftshift(ampl_data),(2,2)),cmap='gray')\n",
    "\n",
    "titles = [\n",
    "    \"reconstructed phase\", \"reconstructed amplitude\"\n",
    "]\n",
    "\n",
    "scalebar_real = {'pixelsize':ssb.scan_sampling[1],'pixelunits':r'$\\AA$',\"Nx\":scan_gpts[0]*2,\"Ny\":scan_gpts[1]*2,\"labelsize\":10}\n",
    "\n",
    "for ax, title in zip(axs.flatten(),titles):\n",
    "    ax.set(xticks=[],yticks=[],title=title)\n",
    "    py4DSTEM.visualize.add_scalebar(ax,scalebar_real)\n",
    "\n",
    "fig.tight_layout()\n",
    "fig.canvas.resizable = False\n",
    "fig.canvas.header_visible = False\n",
    "fig.canvas.footer_visible = False\n",
    "fig.canvas.toolbar_visible = True\n",
    "fig.canvas.layout.width = '680px'\n",
    "fig.canvas.layout.height = \"365px\"\n",
    "fig.canvas.toolbar_position = 'bottom'\n",
    "None"
   ]
  },
  {
   "cell_type": "code",
   "execution_count": 6,
   "id": "bbeac024-15df-48a4-81f8-7dd6ba766888",
   "metadata": {},
   "outputs": [],
   "source": [
    "def update_plots(\n",
    "    defocus,\n",
    "    stig,\n",
    "    stig_angle,\n",
    "    coma,\n",
    "    coma_angle,\n",
    "    trefoil,\n",
    "    trefoil_angle\n",
    "):\n",
    "    \"\"\" \"\"\"\n",
    "    ssb.reconstruct(\n",
    "        polar_parameters={'C10':-defocus,'C12':stig,'phi12':np.deg2rad(stig_angle),'C21':coma,'phi21':np.deg2rad(coma_angle),'C23':trefoil,'phi23':np.deg2rad(trefoil_angle)},\n",
    "        progress_bar=False,\n",
    "    )\n",
    "\n",
    "    angle_data, _, _ = py4DSTEM.visualize.return_scaled_histogram_ordering(np.angle(ssb.object),normalize=True)\n",
    "    ampl_data, _, _ = py4DSTEM.visualize.return_scaled_histogram_ordering(np.abs(ssb.object),normalize=True)\n",
    "    im_angle.set_data(np.tile(np.fft.fftshift(angle_data),(2,2)))\n",
    "    im_ampl.set_data(np.tile(np.fft.fftshift(ampl_data),(2,2)))\n",
    "    fig.canvas.draw_idle()\n",
    "    return None\n",
    "\n",
    "\n",
    "style = {'description_width': 'initial'}\n",
    "layout = ipywidgets.Layout(width=\"325px\",height=\"30px\")\n",
    "kwargs = {'style':style,'layout':layout,'continuous_update':False}\n",
    "\n",
    "defocus_slider = ipywidgets.FloatSlider(value = 0,min = -100,max = 100, description = \"defocus [Å]\",**kwargs)\n",
    "stig_slider = ipywidgets.FloatSlider(value = 0,min = 0,max = 100, description = \"stig [Å]\",**kwargs)\n",
    "stig_angle_slider = ipywidgets.FloatSlider(value = 0,min = 0,max = 90, description = \"stig angle [°]\",**kwargs)\n",
    "coma_slider = ipywidgets.FloatSlider(value = 0,min = 0,max = 10000, description = \"coma [Å]\",**kwargs)\n",
    "coma_angle_slider = ipywidgets.FloatSlider(value = 0,min = 0,max = 180, description = \"coma angle [°]\",**kwargs)\n",
    "trefoil_slider = ipywidgets.FloatSlider(value = 0,min = 0,max = 10000, description = \"trefoil [Å]\",**kwargs)\n",
    "trefoil_angle_slider = ipywidgets.FloatSlider(value = 0,min = 0,max = 60, description = \"trefoil angle [°]\",**kwargs)\n",
    "\n",
    "def set_solution(*args):\n",
    "    \"\"\" \"\"\"\n",
    "    (\n",
    "        defocus_slider.value,\n",
    "        stig_slider.value,\n",
    "        stig_angle_slider.value,\n",
    "        coma_slider.value,\n",
    "        coma_angle_slider.value,\n",
    "        trefoil_slider.value,\n",
    "        trefoil_angle_slider.value\n",
    "    ) = (100,0,0,0,0,10000,27.5)\n",
    "    \n",
    "    return None\n",
    "\n",
    "solutions_button = ipywidgets.Button(description='reveal solution!',**kwargs)\n",
    "solutions_button.on_click(set_solution)\n",
    "\n",
    "ipywidgets.interactive_output(\n",
    "    update_plots,\n",
    "    {\n",
    "        'defocus':defocus_slider,\n",
    "        'stig':stig_slider,\n",
    "        'stig_angle':stig_angle_slider,\n",
    "        'coma':coma_slider,\n",
    "        'coma_angle':coma_angle_slider,\n",
    "        'trefoil':trefoil_slider,\n",
    "        'trefoil_angle':trefoil_angle_slider,\n",
    "    }\n",
    ");"
   ]
  },
  {
   "cell_type": "code",
   "execution_count": 8,
   "id": "71255bc6-14f6-458d-aec0-001be32567fa",
   "metadata": {},
   "outputs": [
    {
     "data": {
      "application/vnd.jupyter.widget-view+json": {
       "model_id": "e5a2cea03ecd456eb6eb34e37c36d805",
       "version_major": 2,
       "version_minor": 0
      },
      "text/plain": [
       "VBox(children=(HBox(children=(FloatSlider(value=0.0, continuous_update=False, description='defocus [Å]', layou…"
      ]
     },
     "execution_count": 8,
     "metadata": {},
     "output_type": "execute_result"
    }
   ],
   "source": [
    "#| label: app:direct-ptychography-aberrations\n",
    "ipywidgets.VBox(\n",
    "    [\n",
    "        ipywidgets.HBox([defocus_slider,solutions_button]),\n",
    "        ipywidgets.HBox([stig_slider,stig_angle_slider]),\n",
    "        ipywidgets.HBox([coma_slider,coma_angle_slider]),\n",
    "        ipywidgets.HBox([trefoil_slider,trefoil_angle_slider]),\n",
    "        fig.canvas\n",
    "    ]\n",
    ")"
   ]
  },
  {
   "cell_type": "code",
   "execution_count": null,
   "id": "7647fb97-8f15-4014-a019-bd7f66339d34",
   "metadata": {},
   "outputs": [],
   "source": []
  },
  {
   "cell_type": "code",
   "execution_count": null,
   "id": "7eeb37d3-207e-43ce-ba2e-c4e575ab22c4",
   "metadata": {},
   "outputs": [],
   "source": []
  }
 ],
 "metadata": {
  "kernelspec": {
   "display_name": "Python 3 (ipykernel)",
   "language": "python",
   "name": "python3"
  },
  "language_info": {
   "codemirror_mode": {
    "name": "ipython",
    "version": 3
   },
   "file_extension": ".py",
   "mimetype": "text/x-python",
   "name": "python",
   "nbconvert_exporter": "python",
   "pygments_lexer": "ipython3",
   "version": "3.12.8"
  }
 },
 "nbformat": 4,
 "nbformat_minor": 5
}
