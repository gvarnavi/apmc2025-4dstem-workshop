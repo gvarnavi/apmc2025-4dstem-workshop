{
 "cells": [
  {
   "cell_type": "markdown",
   "id": "8456b11c-2ac0-44d1-9240-d32d71d74457",
   "metadata": {},
   "source": [
    "---\n",
    "title: Toy Model Blochwaves\n",
    "authors: [gvarnavides]\n",
    "date: 2025-02-01\n",
    "---"
   ]
  },
  {
   "cell_type": "code",
   "execution_count": 191,
   "id": "0b3a8205-f30d-4acb-ba13-bff4ff19135d",
   "metadata": {},
   "outputs": [],
   "source": [
    "%matplotlib widget\n",
    "import numpy as np\n",
    "import matplotlib.pyplot as plt\n",
    "import ipywidgets"
   ]
  },
  {
   "cell_type": "code",
   "execution_count": 192,
   "id": "3371da27-5d1e-4483-a50e-930f29f34756",
   "metadata": {},
   "outputs": [],
   "source": [
    "def central_equation_entry(g_vectors,potential,k_vec,i,j,):\n",
    "    \"\"\" returns the (i,j)th entry of the central matrix \"\"\"\n",
    "    gi = g_vectors[i]\n",
    "    gj = g_vectors[j]\n",
    "\n",
    "    if i==j:\n",
    "        val = np.dot(k_vec-gi,k_vec-gi)\n",
    "    else:\n",
    "        val = potential[i,j]\n",
    "    return val\n",
    "\n",
    "def central_equation(\n",
    "    g_vectors,\n",
    "    potential,\n",
    "    k_vec\n",
    "):\n",
    "    \"\"\" loops over potential indices to make central matrix \"\"\"\n",
    "    array = np.zeros_like(potential)\n",
    "    n,m = array.shape\n",
    "    for i in range(n):\n",
    "        for j in range(m):\n",
    "            array[i,j] = central_equation_entry(g_vectors,potential,k_vec,i,j)\n",
    "    return array\n",
    "\n",
    "def central_equation_eigenvalues(\n",
    "    g_vectors,\n",
    "    potential,\n",
    "    k_vec\n",
    "):\n",
    "    \"\"\" diagonalizes central matrix \"\"\"\n",
    "    array = central_equation(g_vectors,potential,k_vec)\n",
    "    return np.sort(np.linalg.eigvalsh(array).real)[:3]"
   ]
  },
  {
   "cell_type": "code",
   "execution_count": 222,
   "id": "1cc7db13-4ff6-4370-8808-be41628c20ec",
   "metadata": {},
   "outputs": [],
   "source": [
    "potential_1d = np.zeros((5,5))\n",
    "g_vectors_1d = np.arange(-2,3)[:,None]\n",
    "k_vecs_1d = np.linspace(-0.5,0.5,48+1) # first BZ\n",
    "\n",
    "bandstructure_1d = np.array([\n",
    "    central_equation_eigenvalues(\n",
    "        g_vectors_1d,\n",
    "        potential_1d,\n",
    "        k\n",
    "    )\n",
    "    for k in k_vecs_1d\n",
    "])\n",
    "\n",
    "bandstructure_1d -= bandstructure_1d[24,0]"
   ]
  },
  {
   "cell_type": "code",
   "execution_count": 223,
   "id": "f1792e22-8f8a-4d34-b571-9dc628827c54",
   "metadata": {},
   "outputs": [],
   "source": [
    "dpi = 72\n",
    "with plt.ioff():\n",
    "    fig, ax = plt.subplots(figsize=(675/dpi,375/dpi),dpi=dpi)\n",
    "ax.set_prop_cycle(color=['red', 'blue','black'])\n",
    "lines = ax.plot(k_vecs_1d,bandstructure_1d)\n",
    "ax.set(\n",
    "    xlabel=r\"wavevector, k \",\n",
    "    ylabel=\"blochstate eigenvalue, E\"\n",
    ")\n",
    "fig.canvas.resizable = False\n",
    "fig.canvas.header_visible = False\n",
    "fig.canvas.footer_visible = False\n",
    "fig.canvas.toolbar_visible = True\n",
    "fig.canvas.layout.width = '675px'\n",
    "fig.canvas.layout.height = '400px'\n",
    "fig.canvas.toolbar_position = 'bottom'\n",
    "fig.tight_layout()\n",
    "None"
   ]
  },
  {
   "cell_type": "code",
   "execution_count": 234,
   "id": "50145165-23ba-4fa5-a01b-89b12daabd5d",
   "metadata": {},
   "outputs": [],
   "source": [
    "layout = ipywidgets.Layout(width='330px',height='30px')\n",
    "style = {\n",
    "    'description_width': 'initial',\n",
    "}\n",
    "\n",
    "def update_blochstates(change):\n",
    "    \"\"\" \"\"\"\n",
    "    V0 = change[\"new\"]\n",
    "    vec = np.full(4,V0)\n",
    "    potential_1d = np.diag(vec,1) + np.diag(vec,-1)\n",
    "    \n",
    "    bandstructure_1d = np.array([\n",
    "        central_equation_eigenvalues(\n",
    "            g_vectors_1d,\n",
    "            potential_1d,\n",
    "            k\n",
    "        )\n",
    "        for k in k_vecs_1d\n",
    "    ])\n",
    "    bandstructure_1d -= bandstructure_1d[24,0]\n",
    "\n",
    "    lines[0].set_ydata(bandstructure_1d[:,0])\n",
    "    lines[1].set_ydata(bandstructure_1d[:,1])\n",
    "    lines[2].set_ydata(bandstructure_1d[:,2])\n",
    "    fig.canvas.draw_idle()\n",
    "    return None\n",
    "\n",
    "V0_slider = ipywidgets.FloatSlider(\n",
    "    min=0,\n",
    "    max=0.5,\n",
    "    step=0.025,\n",
    "    layout=layout,\n",
    "    style=style,\n",
    "    description=r\"potential strength, V$_0$\"\n",
    ")\n",
    "\n",
    "V0_slider.observe(update_blochstates,\"value\")"
   ]
  },
  {
   "cell_type": "code",
   "execution_count": 235,
   "id": "7ea26667-e013-4371-9851-b8283441b487",
   "metadata": {},
   "outputs": [
    {
     "data": {
      "application/vnd.jupyter.widget-view+json": {
       "model_id": "abbeb5acbd3d48ed9b1f25a4be5b4a8b",
       "version_major": 2,
       "version_minor": 0
      },
      "text/plain": [
       "VBox(children=(FloatSlider(value=0.0, description='potential strength, V$_0$', layout=Layout(height='30px', wi…"
      ]
     },
     "execution_count": 235,
     "metadata": {},
     "output_type": "execute_result"
    }
   ],
   "source": [
    "#| label: app:toymodel_bloch_widget\n",
    "\n",
    "ipywidgets.VBox(\n",
    "    [\n",
    "        V0_slider,\n",
    "        fig.canvas\n",
    "    ],\n",
    "    layout=ipywidgets.Layout(\n",
    "        align_items=\"center\"\n",
    "    )\n",
    ")"
   ]
  }
 ],
 "metadata": {
  "kernelspec": {
   "display_name": "Python 3 (ipykernel)",
   "language": "python",
   "name": "python3"
  },
  "language_info": {
   "codemirror_mode": {
    "name": "ipython",
    "version": 3
   },
   "file_extension": ".py",
   "mimetype": "text/x-python",
   "name": "python",
   "nbconvert_exporter": "python",
   "pygments_lexer": "ipython3",
   "version": "3.12.8"
  }
 },
 "nbformat": 4,
 "nbformat_minor": 5
}
