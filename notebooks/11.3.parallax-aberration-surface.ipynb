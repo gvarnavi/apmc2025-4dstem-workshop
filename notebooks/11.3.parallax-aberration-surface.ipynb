{
 "cells": [
  {
   "cell_type": "markdown",
   "id": "463e9dde-4ea8-4ec3-990a-4b51bc862628",
   "metadata": {},
   "source": [
    "---\n",
    "title: Parallax Aberration Surface\n",
    "authors: [gvarnavides]\n",
    "date: 2025-02-01\n",
    "---"
   ]
  },
  {
   "cell_type": "code",
   "execution_count": 1,
   "id": "35a8ab11-120b-4be5-9eea-1fddb90228e7",
   "metadata": {},
   "outputs": [],
   "source": [
    "%matplotlib widget\n",
    "import py4DSTEM\n",
    "\n",
    "import numpy as np\n",
    "import matplotlib.pyplot as plt\n",
    "\n",
    "from IPython.display import display\n",
    "import ipywidgets"
   ]
  },
  {
   "cell_type": "code",
   "execution_count": 2,
   "id": "1bbc0c1e-ec43-476b-ae72-eb7b7d0f4985",
   "metadata": {},
   "outputs": [
    {
     "data": {
      "text/plain": [
       "DataCube( A 4-dimensional array of shape (24, 48, 64, 64) called 'datacube',\n",
       "          with dimensions:\n",
       "\n",
       "              Rx = [0.0,10.666666666666666,21.333333333333332,...] A\n",
       "              Ry = [0.0,10.666666666666666,21.333333333333332,...] A\n",
       "              Qx = [0.0,0.1538085070134974,0.3076170140269948,...] mrad\n",
       "              Qy = [0.0,0.1538085070134974,0.3076170140269948,...] mrad\n",
       ")"
      ]
     },
     "execution_count": 2,
     "metadata": {},
     "output_type": "execute_result"
    }
   ],
   "source": [
    "file_path = 'data/'\n",
    "file_data = file_path + 'parallax_apoferritin_simulation_100eA2.h5'\n",
    "\n",
    "dataset = py4DSTEM.read(file_data)\n",
    "dataset"
   ]
  },
  {
   "cell_type": "code",
   "execution_count": 36,
   "id": "3370ac09-f5d5-4095-91a3-ef6e51de475a",
   "metadata": {},
   "outputs": [],
   "source": [
    "from py4DSTEM.process.phase.utils import polar_aliases"
   ]
  },
  {
   "cell_type": "code",
   "execution_count": 38,
   "id": "b4cc8f49-2728-4f41-9dd4-9e9b9261435a",
   "metadata": {},
   "outputs": [],
   "source": [
    "energy = 300e3\n",
    "object_padding_px = (8,8)\n",
    "edge_blend = 4\n",
    "\n",
    "parallax = py4DSTEM.process.phase.Parallax(\n",
    "    datacube=dataset,\n",
    "    energy = energy,\n",
    "    object_padding_px=object_padding_px,\n",
    ").preprocess(\n",
    "    edge_blend=edge_blend,\n",
    "    plot_average_bf=False,\n",
    ")"
   ]
  },
  {
   "cell_type": "code",
   "execution_count": 4,
   "id": "a6f9074f-ffbe-4434-9b55-c72e4c3038d8",
   "metadata": {},
   "outputs": [],
   "source": [
    "defocus = 1.5e4\n",
    "rotation_angle_deg = -15\n",
    "plot_arrow_freq = 4"
   ]
  },
  {
   "cell_type": "code",
   "execution_count": 110,
   "id": "18c77aeb-aa03-4dd3-8f0b-2f2d7c0411ae",
   "metadata": {},
   "outputs": [],
   "source": [
    "style = {'description_width': 'initial'}\n",
    "output = ipywidgets.Output(\n",
    "    layout=ipywidgets.Layout(width=\"675px\",height=\"375px\")\n",
    ")\n",
    "vbox_layout = ipywidgets.Layout(width='325px')\n",
    "arrow_freq_slider = ipywidgets.IntSlider(min=1, max=16, step=1, value=4,style=style,description=\"plot arrow frequency\",layout=vbox_layout,continuous_update=False)\n",
    "upsampling_slider = ipywidgets.IntSlider(min=1, max=4, step=1, value=1,style=style,description=\"upsampling factor\",layout=vbox_layout,continuous_update=False)\n",
    "rotation_slider = ipywidgets.IntSlider(min=-90, max=90, step=1, value=-15, style = style, description=\"rotation angle [°]\",layout=vbox_layout,continuous_update=False)\n",
    "defocus_slider = ipywidgets.IntSlider(min=-2e4, max=2e4, step=5e2, value=1.5e4, style = style, description=\"defocus [Å]\",layout=vbox_layout,continuous_update=False)\n",
    "spherical_slider = ipywidgets.IntSlider(min=-2e9, max=2e9, step=5e5, value=0, style = style, description=\"spherical aberration [Å]\",layout=vbox_layout,continuous_update=False)\n",
    "astigmatism_slider = ipywidgets.IntSlider(min=0, max=1e4, step=5e2, value=0, style = style, description=\"astigmatism [Å]\",layout=vbox_layout,continuous_update=False)\n",
    "astigmatism_angle_slider = ipywidgets.IntSlider(min=-90, max=90, step=1, value=45, style = style, description=\"astigmatism angle [°]\",layout=vbox_layout,continuous_update=False)\n",
    "coma_slider = ipywidgets.IntSlider(min=0, max=1e7, step=5e3, value=0, style = style, description=\"coma [Å]\",layout=vbox_layout,continuous_update=False)\n",
    "coma_angle_slider = ipywidgets.IntSlider(min=-180, max=180, step=1, value=90, style = style, description=\"coma angle [°]\",layout=vbox_layout,continuous_update=False)\n",
    "\n",
    "def reset_aberrations(b):\n",
    "    defocus_slider.value = 1.5e4\n",
    "    spherical_slider.value = 0\n",
    "    astigmatism_slider.value = 0\n",
    "    coma_slider.value = 0\n",
    "    astigmatism_angle_slider.value = 45\n",
    "    coma_angle_slider.value = 90\n",
    "    return None\n",
    "\n",
    "reset_aberrations_button = ipywidgets.Button(description=\"reset aberrations\")\n",
    "reset_aberrations_button.on_click(reset_aberrations)\n",
    "\n",
    "def reset_angle(b):\n",
    "    rotation_slider.value = -15\n",
    "    return None\n",
    "\n",
    "reset_angle_button = ipywidgets.Button(description=\"reset angle\")\n",
    "reset_angle_button.on_click(reset_angle)\n",
    "\n",
    "def widget_wrapper(\n",
    "    plot_arrow_freq,\n",
    "    upsampling_factor,\n",
    "    rotation_angle_deg,\n",
    "    defocus,\n",
    "    spherical_aberration,\n",
    "    astigmatism,\n",
    "    astigmatism_angle_deg,\n",
    "    coma,\n",
    "    coma_angle_deg,\n",
    "):\n",
    "    \"\"\" \"\"\"\n",
    "    output.clear_output(wait=True)\n",
    "    with output:\n",
    "        parallax.guess_common_aberrations(\n",
    "            defocus=defocus,\n",
    "            Cs=spherical_aberration,\n",
    "            astigmatism=astigmatism,\n",
    "            astigmatism_angle=np.deg2rad(astigmatism_angle_deg),\n",
    "            coma=coma,\n",
    "            coma_angle=np.deg2rad(coma_angle_deg),\n",
    "            rotation_angle_deg=rotation_angle_deg,\n",
    "            kde_upsample_factor=upsampling_factor,\n",
    "            plot_arrow_freq=plot_arrow_freq,\n",
    "            figsize=(675/100,350/100),\n",
    "        )\n",
    "        fig = plt.gcf()\n",
    "        fig.canvas.resizable = False\n",
    "        fig.canvas.header_visible = False\n",
    "        fig.canvas.footer_visible = False\n",
    "        fig.canvas.toolbar_visible = True\n",
    "        fig.canvas.layout.width = '675px'\n",
    "        fig.canvas.layout.height = '375px'\n",
    "        fig.canvas.toolbar_position = 'bottom'\n",
    "        fig.tight_layout()\n",
    "        plt.show()\n",
    "    return None\n",
    "\n",
    "ipywidgets.interactive_output(\n",
    "    widget_wrapper,\n",
    "    {\n",
    "        'plot_arrow_freq': arrow_freq_slider,\n",
    "        'upsampling_factor':upsampling_slider,\n",
    "        'rotation_angle_deg': rotation_slider,\n",
    "        'defocus': defocus_slider,\n",
    "        'spherical_aberration': spherical_slider,\n",
    "        'astigmatism': astigmatism_slider,\n",
    "        'astigmatism_angle_deg': astigmatism_angle_slider,\n",
    "        'coma': coma_slider,\n",
    "        'coma_angle_deg': coma_angle_slider,\n",
    "    }\n",
    ")\n",
    "None"
   ]
  },
  {
   "cell_type": "code",
   "execution_count": 111,
   "id": "1939d43e-b3ca-44ae-81a0-8bc0b219db6f",
   "metadata": {},
   "outputs": [
    {
     "data": {
      "application/vnd.jupyter.widget-view+json": {
       "model_id": "0963482c81284a3f990279dacc81991c",
       "version_major": 2,
       "version_minor": 0
      },
      "text/plain": [
       "VBox(children=(HBox(children=(VBox(children=(HBox(children=(HTML(value='<b>Microscope Geometry:</b>', layout=L…"
      ]
     },
     "metadata": {},
     "output_type": "display_data"
    }
   ],
   "source": [
    "#| label: app:parallax_shifts_interactive\n",
    "\n",
    "display(\n",
    "    ipywidgets.VBox(\n",
    "        [\n",
    "            ipywidgets.HBox(\n",
    "                [\n",
    "                    ipywidgets.VBox(\n",
    "                        [\n",
    "                            ipywidgets.HBox([ipywidgets.HTML(\"<b>Microscope Geometry:</b>\",layout=ipywidgets.Layout(width=\"175px\")),reset_angle_button]),\n",
    "                            ipywidgets.HTML(\"<hr>\"),\n",
    "                            rotation_slider,\n",
    "                            ipywidgets.HTML(\"<b>Plotting Options:</b>\"),\n",
    "                            ipywidgets.HTML(\"<hr>\"),\n",
    "                            arrow_freq_slider,\n",
    "                            upsampling_slider,\n",
    "                        ]\n",
    "                    ),\n",
    "                    ipywidgets.VBox(\n",
    "                        [\n",
    "                            ipywidgets.HBox([ipywidgets.HTML(\"<b>Aberrations:</b>\",layout=ipywidgets.Layout(width=\"175px\")),reset_aberrations_button]),\n",
    "                            ipywidgets.HTML(\"<hr>\"),\n",
    "                            defocus_slider,\n",
    "                            spherical_slider,\n",
    "                            astigmatism_slider,\n",
    "                            astigmatism_angle_slider,\n",
    "                            coma_slider,\n",
    "                            coma_angle_slider,\n",
    "                        ],\n",
    "                    )\n",
    "                ],\n",
    "                layout=ipywidgets.Layout(justify_content='center')\n",
    "            ),\n",
    "            output,\n",
    "        ],\n",
    "        layout=ipywidgets.Layout(align_content='center', width='675px')\n",
    "    )\n",
    ")"
   ]
  },
  {
   "cell_type": "code",
   "execution_count": null,
   "id": "0bdbdde5-ec2f-4a15-9dc3-497891c2cc79",
   "metadata": {},
   "outputs": [],
   "source": []
  }
 ],
 "metadata": {
  "kernelspec": {
   "display_name": "Python 3 (ipykernel)",
   "language": "python",
   "name": "python3"
  },
  "language_info": {
   "codemirror_mode": {
    "name": "ipython",
    "version": 3
   },
   "file_extension": ".py",
   "mimetype": "text/x-python",
   "name": "python",
   "nbconvert_exporter": "python",
   "pygments_lexer": "ipython3",
   "version": "3.12.8"
  }
 },
 "nbformat": 4,
 "nbformat_minor": 5
}
