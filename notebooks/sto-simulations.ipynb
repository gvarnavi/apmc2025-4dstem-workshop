{
 "cells": [
  {
   "cell_type": "code",
   "execution_count": 15,
   "id": "fd3aa4fa-b0ee-47ed-8b49-64a84517a368",
   "metadata": {},
   "outputs": [],
   "source": [
    "import abtem\n",
    "import ase\n",
    "import numpy as np\n",
    "import py4DSTEM\n",
    "from scipy.ndimage import rotate\n",
    "\n",
    "abtem.config.set({\"dask.lazy\":False});"
   ]
  },
  {
   "cell_type": "code",
   "execution_count": 3,
   "id": "7b9d81a5-fb4c-4e96-8259-9e9677beff2f",
   "metadata": {},
   "outputs": [],
   "source": [
    "srtio3 = ase.io.read(\"data/SrTiO3.cif\")*(6,6,2)\n",
    "gpts = (192,192)\n",
    "scan_gpts = (32,32)\n",
    "energy = 200e3\n",
    "semiangle_cutoff = 20"
   ]
  },
  {
   "cell_type": "code",
   "execution_count": 4,
   "id": "2d73ead5-de81-4ade-8fad-45340c9b4823",
   "metadata": {},
   "outputs": [],
   "source": [
    "potential = abtem.Potential(\n",
    "    srtio3,\n",
    "    gpts=gpts,\n",
    "    slice_thickness=srtio3.cell[2,2]/8,\n",
    "    projection='finite'\n",
    ").build(\n",
    ")"
   ]
  },
  {
   "cell_type": "code",
   "execution_count": 5,
   "id": "2fec7c80-e9be-4375-8e60-eb3a25c2d5e1",
   "metadata": {},
   "outputs": [],
   "source": [
    "grid_scan = abtem.GridScan(\n",
    "    start=(0,0),\n",
    "    end=np.array(potential.extent)/6,\n",
    "    gpts=scan_gpts,\n",
    ")"
   ]
  },
  {
   "cell_type": "code",
   "execution_count": 6,
   "id": "1ca0912a-7b2f-46c6-b5f1-71d1d7314d85",
   "metadata": {},
   "outputs": [],
   "source": [
    "detector = abtem.PixelatedDetector(max_angle=None)"
   ]
  },
  {
   "cell_type": "code",
   "execution_count": 7,
   "id": "cb02f6c4-866a-42cc-a133-2707b801743b",
   "metadata": {},
   "outputs": [],
   "source": [
    "probe_in_focus = abtem.Probe(\n",
    "    semiangle_cutoff=semiangle_cutoff,\n",
    "    energy=energy\n",
    ").match_grid(\n",
    "    potential\n",
    ")"
   ]
  },
  {
   "cell_type": "code",
   "execution_count": 8,
   "id": "87bd050b-376b-40d1-bdda-49d2fa10ade7",
   "metadata": {},
   "outputs": [],
   "source": [
    "measurement_in_focus = probe_in_focus.scan(\n",
    "    potential,\n",
    "    grid_scan,\n",
    "    detector\n",
    ")"
   ]
  },
  {
   "cell_type": "code",
   "execution_count": 9,
   "id": "92e67bd4-6e74-4c93-abcd-f8eb264535eb",
   "metadata": {},
   "outputs": [],
   "source": [
    "probe_defocus = abtem.Probe(\n",
    "    semiangle_cutoff=semiangle_cutoff,\n",
    "    energy=energy,\n",
    "    C10=-100,\n",
    ").match_grid(\n",
    "    potential\n",
    ")"
   ]
  },
  {
   "cell_type": "code",
   "execution_count": 10,
   "id": "44f10614-514b-4633-b3e0-05e868b58cfc",
   "metadata": {},
   "outputs": [],
   "source": [
    "measurement_defocus = probe_defocus.scan(\n",
    "    potential,\n",
    "    grid_scan,\n",
    "    detector\n",
    ")"
   ]
  },
  {
   "cell_type": "code",
   "execution_count": 11,
   "id": "d1b5870a-639c-41fa-bd7b-3ee3f546393f",
   "metadata": {},
   "outputs": [],
   "source": [
    "probe_aberrated = abtem.Probe(\n",
    "    semiangle_cutoff=semiangle_cutoff,\n",
    "    energy=energy,\n",
    "    C10=-100,C23=10000,phi23=np.deg2rad(27.5),\n",
    ").match_grid(\n",
    "    potential\n",
    ")"
   ]
  },
  {
   "cell_type": "code",
   "execution_count": 12,
   "id": "50581d79-c55e-48b1-9e22-6b41d0b0eb2f",
   "metadata": {},
   "outputs": [],
   "source": [
    "measurement_aberrated = probe_aberrated.scan(\n",
    "    potential,\n",
    "    grid_scan,\n",
    "    detector\n",
    ")"
   ]
  },
  {
   "cell_type": "code",
   "execution_count": 13,
   "id": "876a3fc1-bbce-4337-a00b-10e3209e6412",
   "metadata": {},
   "outputs": [],
   "source": [
    "def crop_rotate_noise(measurement, angle_deg = 15, electrons_per_area = 1e5):\n",
    "    \"\"\" \"\"\"\n",
    "    array = measurement.array[:,:,gpts[0]//4:-gpts[0]//4,gpts[1]//4:-gpts[1]//4]\n",
    "    array = rotate(array,angle_deg,reshape=False,order=1,axes=(-1,-2)).clip(0)\n",
    "\n",
    "    electrons_per_probe = np.prod(grid_scan.sampling) * electrons_per_area\n",
    "    array = np.random.poisson(array * electrons_per_probe).clip(0).astype(np.uint16)\n",
    "    return array\n",
    "    "
   ]
  },
  {
   "cell_type": "code",
   "execution_count": 14,
   "id": "7b4f593e-f24b-4289-97fc-9b42646ce47c",
   "metadata": {},
   "outputs": [],
   "source": [
    "data_in_focus = crop_rotate_noise(measurement_in_focus)\n",
    "data_defocus = crop_rotate_noise(measurement_defocus)\n",
    "data_aberrated = crop_rotate_noise(measurement_aberrated)"
   ]
  },
  {
   "cell_type": "code",
   "execution_count": 19,
   "id": "bb22ea8b-f77c-47e8-a430-5acf0afef2d0",
   "metadata": {},
   "outputs": [
    {
     "data": {
      "text/plain": [
       "Calibration( A Metadata instance called 'calibration', containing the following fields:\n",
       "\n",
       "             Q_pixel_size:    1.0595062907655965\n",
       "             R_pixel_size:    0.12328531250000001\n",
       "             Q_pixel_units:   mrad\n",
       "             R_pixel_units:   A\n",
       "             QR_flip:         False\n",
       ")"
      ]
     },
     "execution_count": 19,
     "metadata": {},
     "output_type": "execute_result"
    }
   ],
   "source": [
    "dc_in_focus = py4DSTEM.DataCube(data_in_focus)\n",
    "dc_in_focus.calibration.set_Q_pixel_size(measurement_in_focus.angular_sampling[0])\n",
    "dc_in_focus.calibration.set_R_pixel_size(grid_scan.sampling[0])\n",
    "dc_in_focus.calibration.set_Q_pixel_units('mrad')\n",
    "dc_in_focus.calibration.set_R_pixel_units('A')\n",
    "dc_in_focus.calibration"
   ]
  },
  {
   "cell_type": "code",
   "execution_count": 22,
   "id": "04116f1f-a182-4708-ba6a-4770cdd49b15",
   "metadata": {},
   "outputs": [],
   "source": [
    "dc_defocus = py4DSTEM.DataCube(data_defocus,calibration=dc_in_focus.calibration.copy())\n",
    "dc_aberrated = py4DSTEM.DataCube(data_aberrated,calibration=dc_in_focus.calibration.copy())"
   ]
  },
  {
   "cell_type": "code",
   "execution_count": 23,
   "id": "c7cb1cdd-c08c-43fd-af50-2d7cd434564a",
   "metadata": {},
   "outputs": [],
   "source": [
    "py4DSTEM.save(\"data/dpc_STO_simulation_in-focus_1e5.h5\",dc_in_focus,mode='o')\n",
    "py4DSTEM.save(\"data/dpc_STO_simulation_defocus_1e5.h5\",dc_defocus,mode='o')\n",
    "py4DSTEM.save(\"data/dpc_STO_simulation_aberrated_1e5.h5\",dc_aberrated,mode='o')"
   ]
  },
  {
   "cell_type": "code",
   "execution_count": null,
   "id": "6728d976-d331-4d51-8308-abebdd1cd21e",
   "metadata": {},
   "outputs": [],
   "source": []
  }
 ],
 "metadata": {
  "kernelspec": {
   "display_name": "Python 3 (ipykernel)",
   "language": "python",
   "name": "python3"
  },
  "language_info": {
   "codemirror_mode": {
    "name": "ipython",
    "version": 3
   },
   "file_extension": ".py",
   "mimetype": "text/x-python",
   "name": "python",
   "nbconvert_exporter": "python",
   "pygments_lexer": "ipython3",
   "version": "3.12.8"
  }
 },
 "nbformat": 4,
 "nbformat_minor": 5
}
