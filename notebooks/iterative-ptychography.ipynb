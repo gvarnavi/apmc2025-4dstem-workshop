{
 "cells": [
  {
   "cell_type": "code",
   "execution_count": 2,
   "id": "d7b4872d-05e6-46b4-a90b-754e96c6868a",
   "metadata": {},
   "outputs": [],
   "source": [
    "# imports\n",
    "%matplotlib widget\n",
    "\n",
    "import numpy as np\n",
    "import matplotlib.pyplot as plt\n",
    "import ipywidgets\n",
    "from IPython.display import display\n",
    "\n",
    "import py4DSTEM"
   ]
  },
  {
   "cell_type": "code",
   "execution_count": 20,
   "id": "20133053-f0b2-4bfb-a83c-3c884d7b0826",
   "metadata": {},
   "outputs": [],
   "source": [
    "# initialize arrays\n",
    "ducky = np.load(\"data/clean-ducky-4D.npy\")\n",
    "amplitudes = np.sqrt(np.fft.ifftshift(ducky.reshape(-1,128,128),axes=(-2,-1)))\n",
    "\n",
    "obj_array_init = np.ones((416,416),dtype=np.complex128)\n",
    "probe_array_init = py4DSTEM.process.phase.utils.ComplexProbe(\n",
    "    energy=80e3,\n",
    "    gpts=(128,128),\n",
    "    sampling=(0.125,0.125),\n",
    "    semiangle_cutoff=20,\n",
    "    defocus=500\n",
    ").build(\n",
    ")._array\n",
    "\n",
    "probe_array_init *= np.sqrt(np.sum(ducky,axis=(-2,-1)).mean((0,1))/128/128)\n",
    "\n",
    "overlap_init = np.fft.fft2(probe_array_init)[None]"
   ]
  },
  {
   "cell_type": "code",
   "execution_count": 16,
   "id": "09dba7db-cd15-4866-912c-3fb13e5009b1",
   "metadata": {},
   "outputs": [],
   "source": [
    "x,y = np.meshgrid(\n",
    "    np.arange(0,400,16) + 16,\n",
    "    np.arange(0,400,16) + 16,\n",
    "    indexing='ij'\n",
    ")\n",
    "positions = np.stack((x.ravel(),y.ravel()),axis=-1)\n",
    "patch_row, patch_col = patch_indices(positions,(128,128),(416,416))"
   ]
  },
  {
   "cell_type": "code",
   "execution_count": 17,
   "id": "4e0b1344-1583-44d3-9bc0-ca0b12cf5d4f",
   "metadata": {},
   "outputs": [],
   "source": [
    "shuffled_order = np.arange(625)\n",
    "np.random.shuffle(shuffled_order)"
   ]
  },
  {
   "cell_type": "code",
   "execution_count": 15,
   "id": "671948d8-0fff-408c-b711-7b5c0b0a8c33",
   "metadata": {},
   "outputs": [],
   "source": [
    "def patch_indices(positions, roi_shape, obj_shape):\n",
    "    \"\"\"Returns the vectorized row/col patch indices.\"\"\"\n",
    "\n",
    "    sx, sy = roi_shape\n",
    "    x0 = np.round(positions[:, 0]).astype(\"int\")\n",
    "    y0 = np.round(positions[:, 1]).astype(\"int\")\n",
    "\n",
    "    x_ind = np.fft.fftfreq(sx, d=1 / sx).astype(\"int\")\n",
    "    y_ind = np.fft.fftfreq(sy, d=1 / sy).astype(\"int\")\n",
    "\n",
    "    row = (x0[:, None, None] + x_ind[None, :, None]) % obj_shape[0]\n",
    "    col = (y0[:, None, None] + y_ind[None, None, :]) % obj_shape[1]\n",
    "\n",
    "    return row, col"
   ]
  },
  {
   "cell_type": "code",
   "execution_count": null,
   "id": "e02f31f9-3520-4c9d-b787-7e8223c1f5ab",
   "metadata": {},
   "outputs": [],
   "source": []
  }
 ],
 "metadata": {
  "kernelspec": {
   "display_name": "Python 3 (ipykernel)",
   "language": "python",
   "name": "python3"
  },
  "language_info": {
   "codemirror_mode": {
    "name": "ipython",
    "version": 3
   },
   "file_extension": ".py",
   "mimetype": "text/x-python",
   "name": "python",
   "nbconvert_exporter": "python",
   "pygments_lexer": "ipython3",
   "version": "3.12.8"
  }
 },
 "nbformat": 4,
 "nbformat_minor": 5
}
